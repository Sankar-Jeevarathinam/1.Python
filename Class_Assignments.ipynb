{
 "cells": [
  {
   "cell_type": "code",
   "execution_count": 1,
   "id": "500a9ded-33aa-4bfa-90f5-323e48062031",
   "metadata": {},
   "outputs": [],
   "source": [
    "List = [\"Machine Learning\",\"Neural Networks\",\"Vision\",\"Robotics\",\"Speech Processing\",\"Natural Language Processing\"]\n",
    "class Subfields():\n",
    "    def Subfields():\n",
    "        print(\"Sub-fields in AI are:\")\n",
    "        for string in List:\n",
    "            print(string)"
   ]
  },
  {
   "cell_type": "code",
   "execution_count": 2,
   "id": "d4c18625-2cbf-4c8e-8422-4752801f8954",
   "metadata": {},
   "outputs": [
    {
     "name": "stdout",
     "output_type": "stream",
     "text": [
      "Sub-fields in AI are:\n",
      "Machine Learning\n",
      "Neural Networks\n",
      "Vision\n",
      "Robotics\n",
      "Speech Processing\n",
      "Natural Language Processing\n"
     ]
    }
   ],
   "source": [
    "Subfields.Subfields()"
   ]
  },
  {
   "cell_type": "code",
   "execution_count": 3,
   "id": "aae350db-fcca-498e-a09e-9df438e59975",
   "metadata": {},
   "outputs": [],
   "source": [
    "class oddEven():\n",
    "    def OddEven():\n",
    "        i = int(input(\"Enter a Number:\")) \n",
    "        if ((i%2)==1):\n",
    "            print(i, \" is Odd Number\")\n",
    "        else:\n",
    "            print(i, \" is Even Number\")"
   ]
  },
  {
   "cell_type": "code",
   "execution_count": 5,
   "id": "fb2dfcc3-d95e-49b0-9fdb-31b1fa68ba4f",
   "metadata": {},
   "outputs": [
    {
     "name": "stdin",
     "output_type": "stream",
     "text": [
      "Enter a Number: 52452\n"
     ]
    },
    {
     "name": "stdout",
     "output_type": "stream",
     "text": [
      "52452  is Even Number\n"
     ]
    }
   ],
   "source": [
    "oddEven.OddEven()"
   ]
  },
  {
   "cell_type": "code",
   "execution_count": 6,
   "id": "1d2a5140-32ea-4a55-b46f-acd3cddab8cc",
   "metadata": {},
   "outputs": [],
   "source": [
    "class ElegibleForMarriage ():\n",
    "    def Elegible():\n",
    "        gender = input(\"Your Gender:\")\n",
    "        age = input(\"Your Age:\")\n",
    "        if (gender == \"Male\" and int(age)>=21):\n",
    "            print(\"Elegible\")\n",
    "        elif (gender == \"Female\" and int(age)>=18):\n",
    "            print(\"Elegible\")\n",
    "        else:\n",
    "            print(\"Not Elegible\")"
   ]
  },
  {
   "cell_type": "code",
   "execution_count": 7,
   "id": "d2b71ee5-9d8e-44ad-9381-ea9a3623460e",
   "metadata": {},
   "outputs": [
    {
     "name": "stdin",
     "output_type": "stream",
     "text": [
      "Your Gender: Male\n",
      "Your Age: 20\n"
     ]
    },
    {
     "name": "stdout",
     "output_type": "stream",
     "text": [
      "Not Elegible\n"
     ]
    }
   ],
   "source": [
    "ElegibleForMarriage.Elegible()"
   ]
  },
  {
   "cell_type": "code",
   "execution_count": 8,
   "id": "4e750250-3743-46d0-a7e4-188df6a865d9",
   "metadata": {},
   "outputs": [],
   "source": [
    "class Findpercent():\n",
    "    def percentage():\n",
    "        Sub1 = int(input(\"Subject1 =\"))\n",
    "        Sub2 = int(input(\"Subject2 =\"))\n",
    "        Sub3 = int(input(\"Subject3 =\"))\n",
    "        Sub4 = int(input(\"Subject4 =\"))\n",
    "        Sub5 = int(input(\"Subject5 =\"))\n",
    "        Total = Sub1+Sub2+Sub3+Sub4+Sub5\n",
    "        print(\"Total:\", Total)\n",
    "        print(\"Percentage:\", Total/5)\n",
    "    "
   ]
  },
  {
   "cell_type": "code",
   "execution_count": 9,
   "id": "cfac1c53-75e6-4347-b8e5-0973d445121b",
   "metadata": {},
   "outputs": [
    {
     "name": "stdin",
     "output_type": "stream",
     "text": [
      "Subject1 = 98\n",
      "Subject2 = 87\n",
      "Subject3 = 95\n",
      "Subject4 = 95\n",
      "Subject5 = 93\n"
     ]
    },
    {
     "name": "stdout",
     "output_type": "stream",
     "text": [
      "Total: 468\n",
      "Percentage: 93.6\n"
     ]
    }
   ],
   "source": [
    "Findpercent.percentage()"
   ]
  },
  {
   "cell_type": "code",
   "execution_count": 10,
   "id": "e72f498b-7007-4310-a900-e39d980043a5",
   "metadata": {},
   "outputs": [],
   "source": [
    "class triangle():\n",
    "    def triangle():\n",
    "        H1 = int(input(\"Height:\"))\n",
    "        B1 = int(input(\"Breadth:\"))\n",
    "        print(\"Area formula:(Height*Breadth)/2\")\n",
    "        print(\"Area of Triangle\", H1*B1/2)\n",
    "        Hi1 = int(input(\"Height1:\"))\n",
    "        Hi2 = int(input(\"Height2:\"))\n",
    "        B =  int(input(\"Breadth:\"))\n",
    "        print (\"Perimeter formula: Height1+Height2+Breadth\")\n",
    "        print (\"Perimeter of Triangle:\", Hi1+Hi2+B)"
   ]
  },
  {
   "cell_type": "code",
   "execution_count": 11,
   "id": "5d8b8202-2e23-494d-9b08-aff69b495c0e",
   "metadata": {},
   "outputs": [
    {
     "name": "stdin",
     "output_type": "stream",
     "text": [
      "Height: 32\n",
      "Breadth: 34\n"
     ]
    },
    {
     "name": "stdout",
     "output_type": "stream",
     "text": [
      "Area formula:(Height*Breadth)/2\n",
      "Area of Triangle 544.0\n"
     ]
    },
    {
     "name": "stdin",
     "output_type": "stream",
     "text": [
      "Height1: 2\n",
      "Height2: 4\n",
      "Breadth: 4\n"
     ]
    },
    {
     "name": "stdout",
     "output_type": "stream",
     "text": [
      "Perimeter formula: Height1+Height2+Breadth\n",
      "Perimeter of Triangle: 10\n"
     ]
    }
   ],
   "source": [
    "triangle.triangle()"
   ]
  },
  {
   "cell_type": "code",
   "execution_count": null,
   "id": "01cbf545-13ee-4198-9e06-d8b3f90ad77a",
   "metadata": {},
   "outputs": [],
   "source": []
  }
 ],
 "metadata": {
  "kernelspec": {
   "display_name": "Python [conda env:base] *",
   "language": "python",
   "name": "conda-base-py"
  },
  "language_info": {
   "codemirror_mode": {
    "name": "ipython",
    "version": 3
   },
   "file_extension": ".py",
   "mimetype": "text/x-python",
   "name": "python",
   "nbconvert_exporter": "python",
   "pygments_lexer": "ipython3",
   "version": "3.13.5"
  }
 },
 "nbformat": 4,
 "nbformat_minor": 5
}
