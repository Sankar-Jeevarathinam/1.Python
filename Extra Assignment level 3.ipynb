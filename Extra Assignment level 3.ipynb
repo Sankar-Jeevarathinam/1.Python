{
 "cells": [
  {
   "cell_type": "code",
   "execution_count": 1,
   "id": "74040a3a-814a-4685-9483-2a8ce4deeb66",
   "metadata": {},
   "outputs": [
    {
     "name": "stdin",
     "output_type": "stream",
     "text": [
      "Enter Value: 10\n"
     ]
    },
    {
     "name": "stdout",
     "output_type": "stream",
     "text": [
      "Correct\n"
     ]
    }
   ],
   "source": [
    "i=int(input(\"Enter Value:\"))\n",
    "if (i==10):\n",
    "    print(\"Correct\")"
   ]
  },
  {
   "cell_type": "code",
   "execution_count": 3,
   "id": "b8214f38-8021-4683-a12a-0d65bba89c1f",
   "metadata": {},
   "outputs": [
    {
     "name": "stdin",
     "output_type": "stream",
     "text": [
      "Enter the password: HOPE@123\n"
     ]
    },
    {
     "name": "stdout",
     "output_type": "stream",
     "text": [
      "Your Password is Correct\n"
     ]
    }
   ],
   "source": [
    "my_Pwd = \"HOPE@123\"\n",
    "Password = input(\"Enter the password:\")\n",
    "if(Password == my_Pwd):\n",
    "    print (\"Your Password is Correct\")"
   ]
  },
  {
   "cell_type": "code",
   "execution_count": 5,
   "id": "f855413f-16dd-4999-8dc9-4cf547087f1e",
   "metadata": {},
   "outputs": [
    {
     "name": "stdin",
     "output_type": "stream",
     "text": [
      "Enter your age 20\n"
     ]
    },
    {
     "name": "stdout",
     "output_type": "stream",
     "text": [
      "age: 20\n",
      "Adult\n"
     ]
    }
   ],
   "source": [
    "age = int(input('Enter your age'))\n",
    "if (age <18):\n",
    "    print(\"age:\", age)\n",
    "    print (\"Child\")\n",
    "elif (age>=18 and age <=55):\n",
    "    print(\"age:\", age)\n",
    "    print (\"Adult\")\n",
    "else:\n",
    "    print(\"age:\", age)\n",
    "    print (\"Senior Citizen\")\n"
   ]
  },
  {
   "cell_type": "code",
   "execution_count": 9,
   "id": "2406e630-216e-48bf-8487-a0e6fb70d463",
   "metadata": {},
   "outputs": [
    {
     "name": "stdin",
     "output_type": "stream",
     "text": [
      "Enter any number with sign 1\n"
     ]
    },
    {
     "name": "stdout",
     "output_type": "stream",
     "text": [
      "The number is Positive\n"
     ]
    }
   ],
   "source": [
    "i = int(input(\"Enter any number with sign\"))\n",
    "if (i<0):\n",
    "    print(\"The number is Negative\")\n",
    "else:\n",
    "    print(\"The number is Positive\")"
   ]
  },
  {
   "cell_type": "code",
   "execution_count": 12,
   "id": "3b2e2d56-04e5-4470-a1cc-ab69da6c749d",
   "metadata": {},
   "outputs": [
    {
     "name": "stdin",
     "output_type": "stream",
     "text": [
      "Enter any number  22\n"
     ]
    },
    {
     "name": "stdout",
     "output_type": "stream",
     "text": [
      "The number is not divisible by 5\n"
     ]
    }
   ],
   "source": [
    "i = int(input(\"Enter any number \"))\n",
    "if ((i%5) == 0):\n",
    "    print(\"The number is  divisible by 5\")\n",
    "else:\n",
    "    print(\"The number is not divisible by 5\")"
   ]
  },
  {
   "cell_type": "code",
   "execution_count": null,
   "id": "83903813-830b-4337-aa9e-4519193df497",
   "metadata": {},
   "outputs": [],
   "source": []
  }
 ],
 "metadata": {
  "kernelspec": {
   "display_name": "Python [conda env:base] *",
   "language": "python",
   "name": "conda-base-py"
  },
  "language_info": {
   "codemirror_mode": {
    "name": "ipython",
    "version": 3
   },
   "file_extension": ".py",
   "mimetype": "text/x-python",
   "name": "python",
   "nbconvert_exporter": "python",
   "pygments_lexer": "ipython3",
   "version": "3.13.5"
  }
 },
 "nbformat": 4,
 "nbformat_minor": 5
}
