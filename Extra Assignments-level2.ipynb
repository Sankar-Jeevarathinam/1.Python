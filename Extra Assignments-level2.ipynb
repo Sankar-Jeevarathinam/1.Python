{
 "cells": [
  {
   "cell_type": "code",
   "execution_count": 2,
   "id": "dd917e0f-a99d-4ad2-a8fa-a26afb528e79",
   "metadata": {},
   "outputs": [
    {
     "name": "stdout",
     "output_type": "stream",
     "text": [
      "0\n",
      "1\n",
      "2\n",
      "3\n",
      "4\n",
      "5\n",
      "6\n",
      "7\n",
      "8\n",
      "9\n",
      "10\n",
      "11\n",
      "12\n",
      "13\n",
      "14\n",
      "15\n",
      "16\n",
      "17\n",
      "18\n",
      "19\n"
     ]
    }
   ],
   "source": [
    "for num in range (0,20):\n",
    "    print (num)"
   ]
  },
  {
   "cell_type": "code",
   "execution_count": 8,
   "id": "2a9dbf2b-8b49-4f6c-8d09-19c43b3bc7f4",
   "metadata": {},
   "outputs": [
    {
     "name": "stdout",
     "output_type": "stream",
     "text": [
      "10 11 12 13 14 15 16 17 18 19 "
     ]
    }
   ],
   "source": [
    "for num in range (10,20):\n",
    "    print(num, end=' ')"
   ]
  },
  {
   "cell_type": "code",
   "execution_count": 10,
   "id": "a065378c-94cd-46ae-bcb8-1b93e3fd2cb4",
   "metadata": {},
   "outputs": [
    {
     "name": "stdout",
     "output_type": "stream",
     "text": [
      "[10, 20, 14, 55, 43, 87, 76]\n",
      "Number of item in the List2:\n",
      "7\n"
     ]
    }
   ],
   "source": [
    "list = [10,20,14,55,43,87,76]\n",
    "print (list)\n",
    "print (\"Number of item in the List2:\")\n",
    "print (len(list))"
   ]
  },
  {
   "cell_type": "code",
   "execution_count": 13,
   "id": "b2336da7-8f7c-41b5-93b9-dc68c18a1c51",
   "metadata": {},
   "outputs": [
    {
     "name": "stdout",
     "output_type": "stream",
     "text": [
      "A\n",
      "r\n",
      "t\n",
      "i\n",
      "f\n",
      "i\n",
      "c\n",
      "i\n",
      "a\n",
      "l\n",
      " \n",
      "I\n",
      "n\n",
      "t\n",
      "e\n",
      "l\n",
      "l\n",
      "i\n",
      "g\n",
      "e\n",
      "n\n",
      "c\n",
      "e\n"
     ]
    }
   ],
   "source": [
    "my_string = \"Artificial Intelligence\"\n",
    "for char in my_string:\n",
    "    print(char)"
   ]
  },
  {
   "cell_type": "code",
   "execution_count": 15,
   "id": "a12c1630-bcbd-4897-a6b2-d1055d657271",
   "metadata": {},
   "outputs": [
    {
     "name": "stdout",
     "output_type": "stream",
     "text": [
      "Your Name: Sankar\n",
      "Your age: 45\n",
      "Your profession: Data Engineer\n"
     ]
    }
   ],
   "source": [
    "print (\"Your Name: Sankar\")\n",
    "print (\"Your age: 45\")\n",
    "print (\"Your profession: Data Engineer\")"
   ]
  },
  {
   "cell_type": "code",
   "execution_count": 16,
   "id": "f47a5f6a-6e72-4ba7-8c4e-86988c862dc9",
   "metadata": {},
   "outputs": [
    {
     "name": "stdout",
     "output_type": "stream",
     "text": [
      "(1, 'Welcome', 2, 'Hope')\n"
     ]
    }
   ],
   "source": [
    "tub = (1, 'Welcome',2,'Hope')\n",
    "print (tub)"
   ]
  },
  {
   "cell_type": "code",
   "execution_count": 18,
   "id": "67b4a261-d093-4318-bf2e-ea1d4fbfbda3",
   "metadata": {},
   "outputs": [
    {
     "name": "stdout",
     "output_type": "stream",
     "text": [
      "((0, 1, 2, 3), ('python', 'HOPE'))\n"
     ]
    }
   ],
   "source": [
    "tub1 = (0,1,2,3)\n",
    "tub2 = ('python','HOPE')\n",
    "tub3 = (tub1,tub2)\n",
    "print (tub3)"
   ]
  },
  {
   "cell_type": "code",
   "execution_count": 20,
   "id": "178a2647-01c8-46e7-ac66-16a2b2fd7dfe",
   "metadata": {},
   "outputs": [
    {
     "name": "stdout",
     "output_type": "stream",
     "text": [
      "19  is Odd\n",
      "25  is Odd\n",
      "1  is Odd\n"
     ]
    }
   ],
   "source": [
    "list = [20,10,16,19,25,1,276,188]\n",
    "for i in list:\n",
    "    if(i%2==1):\n",
    "        print(i,\" is Odd\")"
   ]
  },
  {
   "cell_type": "code",
   "execution_count": 22,
   "id": "afb8d039-872d-4d6b-a4f9-f52f7a60b497",
   "metadata": {},
   "outputs": [
    {
     "name": "stdout",
     "output_type": "stream",
     "text": [
      "20  is Even\n",
      "10  is Even\n",
      "16  is Even\n",
      "276  is Even\n",
      "188  is Even\n"
     ]
    }
   ],
   "source": [
    "list = [20,10,16,19,25,1,276,188]\n",
    "for i in list:\n",
    "    if(i%2==0):\n",
    "        print(i,\" is Even\")"
   ]
  },
  {
   "cell_type": "code",
   "execution_count": null,
   "id": "1d7bf689-5e6b-4aa0-9722-ab2a25a4e879",
   "metadata": {},
   "outputs": [],
   "source": []
  }
 ],
 "metadata": {
  "kernelspec": {
   "display_name": "Python [conda env:base] *",
   "language": "python",
   "name": "conda-base-py"
  },
  "language_info": {
   "codemirror_mode": {
    "name": "ipython",
    "version": 3
   },
   "file_extension": ".py",
   "mimetype": "text/x-python",
   "name": "python",
   "nbconvert_exporter": "python",
   "pygments_lexer": "ipython3",
   "version": "3.13.5"
  }
 },
 "nbformat": 4,
 "nbformat_minor": 5
}
