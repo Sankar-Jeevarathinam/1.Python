{
 "cells": [
  {
   "cell_type": "code",
   "execution_count": 3,
   "id": "22d575b5-a75d-430a-970a-ab7448800fcb",
   "metadata": {},
   "outputs": [],
   "source": [
    "List = [\"Machine Learning\",\"Neural Networks\",\"Vision\",\"Robotics\",\"Speech Processing\",\"Natural Language Processing\"]\n",
    "def Subfields():\n",
    "    print(\"Sub-fields in AI are:\")\n",
    "    for string in List:\n",
    "        print(string)"
   ]
  },
  {
   "cell_type": "code",
   "execution_count": 4,
   "id": "56a43734-2f5a-4b5b-92ba-21cdfb63a37a",
   "metadata": {},
   "outputs": [
    {
     "name": "stdout",
     "output_type": "stream",
     "text": [
      "Sub-fields in AI are:\n",
      "Machine Learning\n",
      "Neural Networks\n",
      "Vision\n",
      "Robotics\n",
      "Speech Processing\n",
      "Natural Language Processing\n"
     ]
    }
   ],
   "source": [
    "Subfields()"
   ]
  },
  {
   "cell_type": "code",
   "execution_count": 5,
   "id": "a0fb397b-0444-4757-b326-de30659335e0",
   "metadata": {},
   "outputs": [],
   "source": [
    "def OddEven():\n",
    "    i = int(input(\"Enter a Number:\")) \n",
    "    if ((i%2)==1):\n",
    "        print(i, \" is Odd Number\")\n",
    "    else:\n",
    "        print(i, \" is Even Number\")"
   ]
  },
  {
   "cell_type": "code",
   "execution_count": 6,
   "id": "31174e5c-0ce9-4ef2-b397-e4db9cb67c7e",
   "metadata": {},
   "outputs": [
    {
     "name": "stdin",
     "output_type": "stream",
     "text": [
      "Enter a Number: 52452\n"
     ]
    },
    {
     "name": "stdout",
     "output_type": "stream",
     "text": [
      "52452  is Even Number\n"
     ]
    }
   ],
   "source": [
    "OddEven()"
   ]
  },
  {
   "cell_type": "code",
   "execution_count": 8,
   "id": "a2cfd269-260b-49d3-b2be-86216163899d",
   "metadata": {},
   "outputs": [],
   "source": [
    "def Elegible():\n",
    "    gender = input(\"Your Gender:\")\n",
    "    age = input(\"Your Age:\")\n",
    "    if (gender == \"Male\" and int(age)>=21):\n",
    "        print(\"Elegible\")\n",
    "    elif (gender == \"Female\" and int(age)>=18):\n",
    "        print(\"Elegible\")\n",
    "    else:\n",
    "        print(\"Not Elegible\")"
   ]
  },
  {
   "cell_type": "code",
   "execution_count": 9,
   "id": "c62a760a-fbae-43fe-940c-daa29febb067",
   "metadata": {},
   "outputs": [
    {
     "name": "stdin",
     "output_type": "stream",
     "text": [
      "Your Gender: Male\n",
      "Your Age: 20\n"
     ]
    },
    {
     "name": "stdout",
     "output_type": "stream",
     "text": [
      "Not Elegible\n"
     ]
    }
   ],
   "source": [
    "Elegible()"
   ]
  },
  {
   "cell_type": "code",
   "execution_count": 10,
   "id": "99a82aa2-7ed9-4fb0-ab8d-a231a3b1468f",
   "metadata": {},
   "outputs": [],
   "source": [
    "def percentage():\n",
    "    Sub1 = int(input(\"Subject1 =\"))\n",
    "    Sub2 = int(input(\"Subject2 =\"))\n",
    "    Sub3 = int(input(\"Subject3 =\"))\n",
    "    Sub4 = int(input(\"Subject4 =\"))\n",
    "    Sub5 = int(input(\"Subject5 =\"))\n",
    "    Total = Sub1+Sub2+Sub3+Sub4+Sub5\n",
    "    print(\"Total:\", Total)\n",
    "    print(\"Percentage:\", Total/5)\n",
    "    "
   ]
  },
  {
   "cell_type": "code",
   "execution_count": 11,
   "id": "dfbc7970-f7ad-4ba8-8418-566b552a4112",
   "metadata": {},
   "outputs": [
    {
     "name": "stdin",
     "output_type": "stream",
     "text": [
      "Subject1 = 98\n",
      "Subject2 = 87\n",
      "Subject3 = 95\n",
      "Subject4 = 95\n",
      "Subject5 = 93\n"
     ]
    },
    {
     "name": "stdout",
     "output_type": "stream",
     "text": [
      "Total: 468\n",
      "Percentage: 93.6\n"
     ]
    }
   ],
   "source": [
    "percentage()"
   ]
  },
  {
   "cell_type": "code",
   "execution_count": 15,
   "id": "66791526-6a75-476f-9e88-c3860f728671",
   "metadata": {},
   "outputs": [],
   "source": [
    "def triangle():\n",
    "    H1 = int(input(\"Height:\"))\n",
    "    B1 = int(input(\"Breadth:\"))\n",
    "    print(\"Area formula:(Height*Breadth)/2\")\n",
    "    print(\"Area of Triangle\", H1*B1/2)\n",
    "    Hi1 = int(input(\"Height1:\"))\n",
    "    Hi2 = int(input(\"Height2:\"))\n",
    "    B =  int(input(\"Breadth:\"))\n",
    "    print (\"Perimeter formula: Height1+Height2+Breadth\")\n",
    "    print (\"Perimeter of Triangle:\", Hi1+Hi2+B)"
   ]
  },
  {
   "cell_type": "code",
   "execution_count": 16,
   "id": "1e44741d-ab49-49bd-9201-c13680a44ae0",
   "metadata": {},
   "outputs": [
    {
     "name": "stdin",
     "output_type": "stream",
     "text": [
      "Height: 32\n",
      "Breadth: 34\n"
     ]
    },
    {
     "name": "stdout",
     "output_type": "stream",
     "text": [
      "Area formula:(Height*Breadth)/2\n",
      "Area of Triangle 544.0\n"
     ]
    },
    {
     "name": "stdin",
     "output_type": "stream",
     "text": [
      "Height1: 2\n",
      "Height2: 4\n",
      "Breadth: 4\n"
     ]
    },
    {
     "name": "stdout",
     "output_type": "stream",
     "text": [
      "Perimeter formula: Height1+Height2+Breadth\n",
      "Perimeter of Triangle: 10\n"
     ]
    }
   ],
   "source": [
    "triangle()"
   ]
  },
  {
   "cell_type": "code",
   "execution_count": null,
   "id": "6aa902e9-d539-4012-b08f-0fbcfa227b51",
   "metadata": {},
   "outputs": [],
   "source": []
  }
 ],
 "metadata": {
  "kernelspec": {
   "display_name": "Python [conda env:base] *",
   "language": "python",
   "name": "conda-base-py"
  },
  "language_info": {
   "codemirror_mode": {
    "name": "ipython",
    "version": 3
   },
   "file_extension": ".py",
   "mimetype": "text/x-python",
   "name": "python",
   "nbconvert_exporter": "python",
   "pygments_lexer": "ipython3",
   "version": "3.13.5"
  }
 },
 "nbformat": 4,
 "nbformat_minor": 5
}
